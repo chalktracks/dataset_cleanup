{
 "cells": [
  {
   "cell_type": "code",
   "execution_count": 58,
   "id": "XRumZcdfeYF_",
   "metadata": {
    "colab": {
     "base_uri": "https://localhost:8080/"
    },
    "executionInfo": {
     "elapsed": 24983,
     "status": "ok",
     "timestamp": 1721705820457,
     "user": {
      "displayName": "Rahul Mishra",
      "userId": "09090382414796014844"
     },
     "user_tz": -60
    },
    "id": "XRumZcdfeYF_",
    "outputId": "a15c059d-e8d5-4d94-afc9-ebb5c430ee45"
   },
   "outputs": [],
   "source": [
    "import numpy as np\n",
    "import cv2\n",
    "import matplotlib.pyplot as plt\n",
    "from inference import get_model\n",
    "import supervision as sv\n",
    "from pathlib import Path\n",
    "import os\n",
    "from retinaface import RetinaFace\n",
    "\n",
    "# dataset images directory\n",
    "root_dir = Path(\"/home/rahul/chalk_following_toy_neural_network_training/dataset/images\")"
   ]
  },
  {
   "cell_type": "code",
   "execution_count": 2,
   "id": "ERrekU5IKcvE",
   "metadata": {
    "executionInfo": {
     "elapsed": 9,
     "status": "ok",
     "timestamp": 1721705820458,
     "user": {
      "displayName": "Rahul Mishra",
      "userId": "09090382414796014844"
     },
     "user_tz": -60
    },
    "id": "ERrekU5IKcvE"
   },
   "outputs": [],
   "source": [
    "def plt_show(image: np.ndarray, figsize = (5,5)):\n",
    "\n",
    "  plt.figure(figsize=figsize)\n",
    "  plt.imshow(cv2.cvtColor(image, cv2.COLOR_BGR2RGB))\n",
    "  plt.axis(\"off\")\n",
    "  plt.show()"
   ]
  },
  {
   "cell_type": "markdown",
   "id": "wX6TVfZDeVP-",
   "metadata": {
    "id": "wX6TVfZDeVP-"
   },
   "source": [
    "# Blur using Supervision\n",
    "\n",
    "This section uses Supervision to blur faces using YoloV8 model"
   ]
  },
  {
   "cell_type": "code",
   "execution_count": 2,
   "id": "qbMVEvQsk6X3",
   "metadata": {
    "colab": {
     "base_uri": "https://localhost:8080/"
    },
    "executionInfo": {
     "elapsed": 824,
     "status": "ok",
     "timestamp": 1721699446199,
     "user": {
      "displayName": "Rahul Mishra",
      "userId": "09090382414796014844"
     },
     "user_tz": -60
    },
    "id": "qbMVEvQsk6X3",
    "outputId": "ba93dc33-e86f-485e-c337-a160f205fdc4"
   },
   "outputs": [],
   "source": [
    "root_dir = Path(\"/home/rahul/chalk_following_toy_neural_network_training/dataset/images\")\n",
    "model = get_model(model_id=\"yolov8n-640\")"
   ]
  },
  {
   "cell_type": "code",
   "execution_count": 3,
   "id": "MsM_xfDGN4Uq",
   "metadata": {
    "executionInfo": {
     "elapsed": 10,
     "status": "ok",
     "timestamp": 1721699096112,
     "user": {
      "displayName": "Rahul Mishra",
      "userId": "09090382414796014844"
     },
     "user_tz": -60
    },
    "id": "MsM_xfDGN4Uq"
   },
   "outputs": [],
   "source": [
    "def pixelate_image(detection_class, image):\n",
    "  pixel_annotator = sv.PixelateAnnotator()\n",
    "  annotated_image = pixel_annotator.annotate(\n",
    "      scene = image.copy(),\n",
    "      detections=detection_class\n",
    "  )\n",
    "  return annotated_image"
   ]
  },
  {
   "cell_type": "code",
   "execution_count": 38,
   "id": "_6-RpKeBZ5Rb",
   "metadata": {
    "colab": {
     "base_uri": "https://localhost:8080/",
     "height": 0,
     "output_embedded_package_id": "1XaE6TMjxT5yd8lXhux5FqCbbK0qw2_rc"
    },
    "executionInfo": {
     "elapsed": 6970,
     "status": "ok",
     "timestamp": 1721699945323,
     "user": {
      "displayName": "Rahul Mishra",
      "userId": "09090382414796014844"
     },
     "user_tz": -60
    },
    "id": "_6-RpKeBZ5Rb",
    "outputId": "6c7a1b29-9e00-410d-f78c-e82c2b266724"
   },
   "outputs": [
    {
     "data": {
      "text/plain": [
       "Output hidden; open in https://colab.research.google.com to view."
      ]
     },
     "metadata": {},
     "output_type": "display_data"
    }
   ],
   "source": [
    "for image_path in root_dir.rglob(\"*.png\"):\n",
    "\n",
    "  image = cv2.imread(str(image_path))\n",
    "  result = model.infer(image)[0]\n",
    "  detection = sv.Detections.from_inference(result)\n",
    "  annotated_img = pixelate_image(detection, image)\n",
    "  plt_show(annotated_img)"
   ]
  },
  {
   "cell_type": "markdown",
   "id": "hNxt5t47e8wD",
   "metadata": {
    "id": "hNxt5t47e8wD"
   },
   "source": [
    "# Blur using retina face\n",
    "\n",
    "This section uses [retinaface](https://github.com/serengil/retinaface) to blur faces"
   ]
  },
  {
   "cell_type": "code",
   "execution_count": 57,
   "id": "RmO0zs0RXEFg",
   "metadata": {
    "executionInfo": {
     "elapsed": 8,
     "status": "ok",
     "timestamp": 1721705820459,
     "user": {
      "displayName": "Rahul Mishra",
      "userId": "09090382414796014844"
     },
     "user_tz": -60
    },
    "id": "RmO0zs0RXEFg"
   },
   "outputs": [],
   "source": [
    "def pixelate_face(image:np.ndarray, blocks:int=10) ->np.ndarray:\n",
    "\n",
    "  \"\"\"Taken from here: https://github.com/h0ssn1/blur-face/tree/main\"\"\"\n",
    "  # divide the input image into NxN blocks\n",
    "  (h, w) = image.shape[:2]\n",
    "  xSteps = np.linspace(0, w, blocks + 1, dtype=\"int\")\n",
    "  ySteps = np.linspace(0, h, blocks + 1, dtype=\"int\")\n",
    "  # loop over the blocks in both the x and y direction\n",
    "  for i in range(1, len(ySteps)):\n",
    "      for j in range(1, len(xSteps)):\n",
    "          # compute the starting and ending (x, y)-coordinates\n",
    "          # for the current block\n",
    "          startX = xSteps[j - 1]\n",
    "          startY = ySteps[i - 1]\n",
    "          endX = xSteps[j]\n",
    "          endY = ySteps[i]\n",
    "          # extract the ROI using NumPy array slicing, compute the\n",
    "          # mean of the ROI, and then draw a rectangle with the\n",
    "          # mean RGB values over the ROI in the original image\n",
    "          roi = image[startY:endY, startX:endX]\n",
    "          (B, G, R) = [int(x) for x in cv2.mean(roi)[:3]]\n",
    "          cv2.rectangle(image, (startX, startY), (endX, endY),\n",
    "                        (B, G, R), -1)\n",
    "  # return the pixelated blurred image\n",
    "  return image\n",
    "\n",
    "def blur(img: np.ndarray, k: int) -> np.ndarray:\n",
    "    \"\"\"Taken from here: https://github.com/h0ssn1/blur-face/tree/main\"\"\"\n",
    "    h, w = img.shape[:2]\n",
    "    print(f\"img shape: {img.shape}\")\n",
    "    kh, kw = h // k, w // k\n",
    "    if kh % 2 == 0:\n",
    "      kh -= 1\n",
    "    if kw % 2 == 0:\n",
    "      kw -= 1\n",
    "    print(f\"kh: {kh}, kw: {kw}\")\n",
    "    img = cv2.GaussianBlur(img, ksize=(kh, kw), sigmaX=0)\n",
    "    return img\n",
    "\n",
    "def blur_face(image: np.ndarray) -> np.ndarray:\n",
    "  \"\"\"Uses the above 2 function & retinaface to blur faces\"\"\"\n",
    "  faces = RetinaFace.detect_faces(image)\n",
    "\n",
    "  if not faces:\n",
    "    return image\n",
    "  else:\n",
    "    for face in faces.values():\n",
    "        x1,y1,x2,y2 = face['facial_area']\n",
    "\n",
    "        image[y1:y2, x1:x2] = pixelate_face(blur(image[y1:y2, x1:x2], 2))\n",
    "    return image"
   ]
  },
  {
   "cell_type": "code",
   "execution_count": null,
   "id": "Fcy3L2vlmETA",
   "metadata": {
    "colab": {
     "base_uri": "https://localhost:8080/",
     "height": 1000,
     "output_embedded_package_id": "1x-VyDI8SVGmOqDSKQtdiogWq1WiCzeGT"
    },
    "executionInfo": {
     "elapsed": 182047,
     "status": "ok",
     "timestamp": 1721706079766,
     "user": {
      "displayName": "Rahul Mishra",
      "userId": "09090382414796014844"
     },
     "user_tz": -60
    },
    "id": "Fcy3L2vlmETA",
    "outputId": "e23555a5-3e79-4cad-9ede-0cf8a63c5298",
    "scrolled": true
   },
   "outputs": [],
   "source": [
    "result_dir = root_dir.parent / Path(\"blured_images\")\n",
    "result_dir.mkdir(exist_ok=True)\n",
    "for image_path in root_dir.rglob(\"*.png\"):\n",
    "\n",
    "    print(f\" img_path: {image_path}\")\n",
    "    image = cv2.imread(str(image_path))\n",
    "    image = blur_face(image)\n",
    "    ret = cv2.imwrite(\n",
    "        str(\n",
    "            result_dir/ image_path.name\n",
    "        ),\n",
    "        image\n",
    "    )\n",
    "    if ret == False: raise FileExistsError\n",
    "    plt_show(image)"
   ]
  }
 ],
 "metadata": {
  "colab": {
   "collapsed_sections": [
    "pPVWMQLDVRRr",
    "wX6TVfZDeVP-"
   ],
   "provenance": []
  },
  "kernelspec": {
   "display_name": "Python 3 (ipykernel)",
   "language": "python",
   "name": "python3"
  },
  "language_info": {
   "codemirror_mode": {
    "name": "ipython",
    "version": 3
   },
   "file_extension": ".py",
   "mimetype": "text/x-python",
   "name": "python",
   "nbconvert_exporter": "python",
   "pygments_lexer": "ipython3",
   "version": "3.8.10"
  }
 },
 "nbformat": 4,
 "nbformat_minor": 5
}
